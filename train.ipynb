{
 "cells": [
  {
   "cell_type": "markdown",
   "id": "ab3af218-f19a-467f-940b-6e22d63312dd",
   "metadata": {},
   "source": [
    "# Deep Q Learning (Pong)"
   ]
  },
  {
   "cell_type": "code",
   "execution_count": 1,
   "id": "a1958f1c-4615-4327-a719-d811f4716da2",
   "metadata": {},
   "outputs": [
    {
     "name": "stdout",
     "output_type": "stream",
     "text": [
      "pygame 2.1.0 (SDL 2.0.16, Python 3.9.6)\n",
      "Hello from the pygame community. https://www.pygame.org/contribute.html\n"
     ]
    }
   ],
   "source": [
    "import numpy as np\n",
    "import time\n",
    "import math\n",
    "import random\n",
    "from pong_env import Env\n",
    "from RL_NN import Deep_Q_Learner\n",
    "from collections import deque\n",
    "import matplotlib.pyplot as plt\n",
    "import pickle"
   ]
  },
  {
   "cell_type": "code",
   "execution_count": 15,
   "id": "99a93896-711b-4c25-bbf1-7bbb07e85dd8",
   "metadata": {},
   "outputs": [],
   "source": [
    "MEMORY_SIZE = 100000 #size of the memory buffer\n",
    "GAMMA = 0.995 #discount factor\n",
    "ALPHA = 1e-03 #learning rate\n",
    "TAU = 1e-03 #parameter for soft update\n",
    "NUM_STEPS_FOR_UPDATE = 4 #update networks after C number of steps\n",
    "EPSILON = 1.0 # initial epsilon for the epsilon-greedy policy\n",
    "EPSILON_DECAY = 0.995\n",
    "EPSILON_MIN = 0.01"
   ]
  },
  {
   "cell_type": "code",
   "execution_count": 3,
   "id": "85af4b2a-23a9-41fc-9397-6c73570fbaca",
   "metadata": {},
   "outputs": [
    {
     "data": {
      "text/plain": [
       "(9, 155, 51.35965167516156, 373)"
      ]
     },
     "execution_count": 3,
     "metadata": {},
     "output_type": "execute_result"
    }
   ],
   "source": [
    "env = Env() #loading the pong environment\n",
    "env.paddle.VEL = 40\n",
    "env.ball.VEL = 50\n",
    "initial_state = env.reset()\n",
    "initial_state"
   ]
  },
  {
   "cell_type": "code",
   "execution_count": 4,
   "id": "72220e8d-e463-41b3-8ee0-d405be66d2e4",
   "metadata": {},
   "outputs": [],
   "source": [
    "state_size = len(initial_state)\n",
    "num_actions = 3 #(nothing, up, down)"
   ]
  },
  {
   "cell_type": "code",
   "execution_count": 5,
   "id": "5b887ee7-0663-477c-9472-bc7cdddd4019",
   "metadata": {},
   "outputs": [
    {
     "name": "stdout",
     "output_type": "stream",
     "text": [
      "W1 shape: (64, 4)\n",
      "b1 shape: (64, 1)\n",
      "W2 shape: (64, 64)\n",
      "b2 shape: (64, 1)\n",
      "W3 shape: (3, 64)\n",
      "b3 shape: (3, 1)\n",
      "Total Parameters: 4675\n"
     ]
    }
   ],
   "source": [
    "# initializing the networks\n",
    "nodes = [64, 64, num_actions]\n",
    "activations = ['relu', 'relu', 'linear']\n",
    "Q_Learner = Deep_Q_Learner(state_size, nodes, activations)"
   ]
  },
  {
   "cell_type": "code",
   "execution_count": 6,
   "id": "c2c576e8-6dcb-4283-8200-bb0aeebc9e9a",
   "metadata": {},
   "outputs": [],
   "source": [
    "def get_action(q_values, epsilon):\n",
    "    if random.random() > epsilon:\n",
    "        return np.argmax(q_values)\n",
    "    else:\n",
    "        return random.choice(np.arange(num_actions))"
   ]
  },
  {
   "cell_type": "code",
   "execution_count": 7,
   "id": "4a9c93b9-9fa8-4392-b903-eeb95e2ca951",
   "metadata": {},
   "outputs": [],
   "source": [
    "def check_update_condition(t, num_steps_upd, buffer, mini_batch_size):\n",
    "    if (t+1)%num_steps_upd == 0 and len(memory_buffer) > mini_batch_size:\n",
    "        return True\n",
    "    else:\n",
    "        return False"
   ]
  },
  {
   "cell_type": "code",
   "execution_count": 8,
   "id": "67f8c6f7-6fed-45f3-a15e-9f53584ff147",
   "metadata": {},
   "outputs": [],
   "source": [
    "def get_experiences(buffer, size):\n",
    "    if size == -1: random.shuffle(buffer)\n",
    "    else: buffer = random.sample(buffer, k=size)\n",
    "    states, actions, rewards, next_states, done_vals = [], [], [], [], []\n",
    "    for i in buffer:\n",
    "        states.append(i[0]); actions.append(i[1]); rewards.append(i[2]); next_states.append(i[3]); done_vals.append(i[4])\n",
    "    states = np.array(states).T # --> shape: (state_size, m)\n",
    "    actions = np.array(actions) # --> shape: (m,)\n",
    "    rewards = np.array(rewards) # --> shape: (m,)\n",
    "    next_states = np.array(next_states).T # --> shape: (state_size, m)\n",
    "    done_vals = np.array(done_vals) # --> shape: (m,)\n",
    "    return (states, actions, rewards, next_states, done_vals)"
   ]
  },
  {
   "cell_type": "code",
   "execution_count": 9,
   "id": "3ee52a2e-8c83-4a92-96e2-6821c21dcc38",
   "metadata": {},
   "outputs": [],
   "source": [
    "def get_epsilon(epsilon):\n",
    "    return max(EPSILON_MIN, EPSILON_DECAY*epsilon)"
   ]
  },
  {
   "cell_type": "markdown",
   "id": "afc4b0f6-e0be-4526-bf9e-b245ce1727d7",
   "metadata": {},
   "source": [
    "## Training the Agent"
   ]
  },
  {
   "cell_type": "markdown",
   "id": "947dc71b-b4e3-4f0a-bc30-0faea546c093",
   "metadata": {},
   "source": [
    "![Deep Q Learning Algorithm](img/deep_q_algorithm.png)"
   ]
  },
  {
   "cell_type": "code",
   "execution_count": 10,
   "id": "bf8eeb8e-d02f-4676-a827-856bff571864",
   "metadata": {},
   "outputs": [
    {
     "name": "stdout",
     "output_type": "stream",
     "text": [
      "Episode 100 | Total point average of the last 100 episodes: -105.43\n",
      "Episode 200 | Total point average of the last 100 episodes: 19.54\n",
      "Episode 300 | Total point average of the last 100 episodes: 152.27\n",
      "Episode 400 | Total point average of the last 100 episodes: 264.42\n",
      "Episode 500 | Total point average of the last 100 episodes: 158.16\n",
      "Episode 600 | Total point average of the last 100 episodes: 157.27\n",
      "Episode 700 | Total point average of the last 100 episodes: 221.67\n",
      "Episode 800 | Total point average of the last 100 episodes: 127.89\n",
      "Episode 900 | Total point average of the last 100 episodes: 104.52\n",
      "Episode 1000 | Total point average of the last 100 episodes: 202.65\n",
      "Episode 1100 | Total point average of the last 100 episodes: 63.70\n",
      "Episode 1200 | Total point average of the last 100 episodes: 210.59\n",
      "Episode 1242 | Total point average of the last 100 episodes: 301.68\n",
      "Solved in 96.54s\n"
     ]
    }
   ],
   "source": [
    "start_time = time.time()\n",
    "\n",
    "num_episodes = 5000\n",
    "max_num_timesteps = 1000\n",
    "mini_batch_size = 64\n",
    "\n",
    "epsilon = EPSILON\n",
    "num_p_av = 100\n",
    "\n",
    "total_point_history = deque(maxlen=num_p_av)\n",
    "avg_point_history = []\n",
    "#network_cost_history = []\n",
    "\n",
    "memory_buffer = deque(maxlen=MEMORY_SIZE)\n",
    "\n",
    "start = time.time()\n",
    "for i in range(num_episodes):\n",
    "    # Reset the environment \n",
    "    state = env.reset()\n",
    "    total_points = 0 \n",
    "\n",
    "    for t in range(max_num_timesteps):\n",
    "        state_qn = np.expand_dims(np.array(state), axis=1)\n",
    "        q_values = Q_Learner.forward_pass(Q_Learner.train_original_param, state_qn)\n",
    "        action = get_action(q_values, epsilon) #get action according to the epsilon greedy policy\n",
    "\n",
    "        #take action\n",
    "        next_state, reward, done = env.step(action)\n",
    "        memory_buffer.append((state, action, reward, next_state, done))\n",
    "\n",
    "        update = check_update_condition(t, NUM_STEPS_FOR_UPDATE, memory_buffer, mini_batch_size)\n",
    "\n",
    "        if update:\n",
    "            experiences = get_experiences(memory_buffer, size=mini_batch_size)\n",
    "\n",
    "            Q_Learner.update_step(experiences, GAMMA, ALPHA)\n",
    "            Q_Learner.update_target_network(TAU)\n",
    "            #network_cost_history.append(Q_Learner.compute_cost(Q_Learner.train_original_param, get_experiences(memory_buffer, -1), GAMMA, print_opt=False)[0])\n",
    "\n",
    "        state = next_state\n",
    "        total_points += reward\n",
    "\n",
    "        if done:\n",
    "            break\n",
    "    total_point_history.append(total_points)\n",
    "    av_latest_points = np.mean(total_point_history)\n",
    "    avg_point_history.append(av_latest_points)\n",
    "\n",
    "    #update the epsilon value\n",
    "    epsilon = get_epsilon(epsilon)\n",
    "\n",
    "    if (i+1) % num_p_av == 0:\n",
    "        print(f\"\\rEpisode {i+1} | Total point average of the last {num_p_av} episodes: {av_latest_points:.2f}\")\n",
    "\n",
    "    if av_latest_points > 300:\n",
    "        print(f\"\\rEpisode {i+1} | Total point average of the last {num_p_av} episodes: {av_latest_points:.2f}\")\n",
    "        train_time = time.time() - start\n",
    "        print(f\"Solved in {train_time:.2f}s\")\n",
    "        break"
   ]
  },
  {
   "cell_type": "code",
   "execution_count": 11,
   "id": "44ad11de-094a-4c8b-83ae-c0440c9d0104",
   "metadata": {},
   "outputs": [
    {
     "data": {
      "text/plain": [
       "[<matplotlib.lines.Line2D at 0x12ff19370>]"
      ]
     },
     "execution_count": 11,
     "metadata": {},
     "output_type": "execute_result"
    },
    {
     "data": {
      "image/png": "[encoded data removed]",
      "text/plain": [
       "<Figure size 640x480 with 1 Axes>"
      ]
     },
     "metadata": {},
     "output_type": "display_data"
    }
   ],
   "source": [
    "plt.plot(avg_point_history)"
   ]
  },
  {
   "cell_type": "code",
   "execution_count": 12,
   "id": "ec17e8de-8bb8-418e-b358-17e12ac7229d",
   "metadata": {},
   "outputs": [],
   "source": [
    "def save_model(model, filename):\n",
    "    data = {'state_size': model.state_size, 'nodes': model.nodes, 'activations': model.activations, 'trained_original_param': model.train_original_param, \n",
    "            'trained_target_param': model.train_target_param}\n",
    "    with open(filename, 'wb') as file:\n",
    "        pickle.dump(data, file)"
   ]
  },
  {
   "cell_type": "code",
   "execution_count": 1,
   "id": "d9817d99-1666-4a3e-ae64-bfc6360e45fc",
   "metadata": {},
   "outputs": [],
   "source": [
    "#save_model(Q_Learner, 'saved_param/easy_pong_2.dat')"
   ]
  }
 ],
 "metadata": {
  "kernelspec": {
   "display_name": "Python 3 (ipykernel)",
   "language": "python",
   "name": "python3"
  },
  "language_info": {
   "codemirror_mode": {
    "name": "ipython",
    "version": 3
   },
   "file_extension": ".py",
   "mimetype": "text/x-python",
   "name": "python",
   "nbconvert_exporter": "python",
   "pygments_lexer": "ipython3",
   "version": "3.9.6"
  }
 },
 "nbformat": 4,
 "nbformat_minor": 5
}
